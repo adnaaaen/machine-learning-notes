{
 "cells": [
  {
   "cell_type": "markdown",
   "id": "b422fd1e-04ac-45f4-baeb-7cf82e054cdc",
   "metadata": {},
   "source": [
    "# **Random Forest Implementation using Sklearn**"
   ]
  },
  {
   "cell_type": "code",
   "execution_count": 2,
   "id": "ec3762b5-b58b-478d-ab72-5c3572a6302b",
   "metadata": {},
   "outputs": [],
   "source": [
    "from sklearn.ensemble import RandomForestClassifier\n",
    "from sklearn.model_selection import train_test_split, KFold, RandomizedSearchCV\n",
    "from sklearn.datasets import make_classification"
   ]
  },
  {
   "cell_type": "code",
   "execution_count": 4,
   "id": "360afbd9-0f92-4303-ad17-b858999d88bb",
   "metadata": {},
   "outputs": [],
   "source": [
    "X, Y = make_classification(n_samples=10000, n_features=10, shuffle=True, random_state=2378)"
   ]
  },
  {
   "cell_type": "code",
   "execution_count": 9,
   "id": "51839360-f41b-4a23-b664-9d3cb9f605ec",
   "metadata": {},
   "outputs": [],
   "source": [
    "x_train, x_test, y_trai, y_test = train_test_split(X, Y, random_state=2323, shuffle=True, test_size=.2)"
   ]
  },
  {
   "cell_type": "code",
   "execution_count": 10,
   "id": "30a68f83-8fa9-46e1-beb0-09d0a4266f21",
   "metadata": {},
   "outputs": [],
   "source": [
    "cv = KFold(shuffle=True, random_state=2323, n_splits=5)"
   ]
  },
  {
   "cell_type": "code",
   "execution_count": null,
   "id": "87c6df2d-47d8-48fa-af71-443bbd062e9f",
   "metadata": {},
   "outputs": [],
   "source": [
    "params = {\n",
    "    \"max_depth\" : [2, 5, 10, 20],\n",
    "    \"\"\n",
    "}"
   ]
  }
 ],
 "metadata": {
  "kernelspec": {
   "display_name": "Python 3 (ipykernel)",
   "language": "python",
   "name": "python3"
  },
  "language_info": {
   "codemirror_mode": {
    "name": "ipython",
    "version": 3
   },
   "file_extension": ".py",
   "mimetype": "text/x-python",
   "name": "python",
   "nbconvert_exporter": "python",
   "pygments_lexer": "ipython3",
   "version": "3.12.8"
  }
 },
 "nbformat": 4,
 "nbformat_minor": 5
}
